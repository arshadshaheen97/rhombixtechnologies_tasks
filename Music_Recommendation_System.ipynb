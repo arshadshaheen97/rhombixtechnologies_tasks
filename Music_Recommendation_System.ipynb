{
  "nbformat": 4,
  "nbformat_minor": 0,
  "metadata": {
    "colab": {
      "provenance": []
    },
    "kernelspec": {
      "name": "python3",
      "display_name": "Python 3"
    },
    "language_info": {
      "name": "python"
    }
  },
  "cells": [
    {
      "cell_type": "code",
      "execution_count": 1,
      "metadata": {
        "id": "sE-p_BPl2XeY"
      },
      "outputs": [],
      "source": [
        "import pandas as pd\n",
        "import numpy as np\n",
        "from sklearn.model_selection import train_test_split\n",
        "from sklearn.preprocessing import LabelEncoder\n",
        "from sklearn.neighbors import NearestNeighbors\n",
        "from keras.models import Sequential, Model\n",
        "from keras.layers import Dense, Embedding, Flatten, Input, Concatenate\n",
        "from keras.optimizers import Adam"
      ]
    },
    {
      "cell_type": "code",
      "source": [
        "#Readnig Dataset\n",
        "data = pd.read_csv(\"/content/Last.fm_data.csv\")\n",
        "data.head()"
      ],
      "metadata": {
        "colab": {
          "base_uri": "https://localhost:8080/",
          "height": 206
        },
        "id": "-RPeg9D02flg",
        "outputId": "c888d22e-77dc-4146-de33-08377ad60b96"
      },
      "execution_count": 2,
      "outputs": [
        {
          "output_type": "execute_result",
          "data": {
            "text/plain": [
              "   ID Username           Artist                          Track  \\\n",
              "0   0  Babs_05  Isobel Campbell     The Circus Is Leaving Town   \n",
              "1   1  Babs_05  Isobel Campbell                   Dusty Wreath   \n",
              "2   2  Babs_05  Isobel Campbell     Honey Child What Can I Do?   \n",
              "3   3  Babs_05  Isobel Campbell  It's Hard To Kill A Bad Thing   \n",
              "4   4  Babs_05  Isobel Campbell                Saturday's Gone   \n",
              "\n",
              "                       Album       Date    Time  play_count  \n",
              "0  Ballad of the Broken Seas  31-Jan-21   23:36           1  \n",
              "1  Ballad of the Broken Seas  31-Jan-21   23:32           1  \n",
              "2  Ballad of the Broken Seas  31-Jan-21   23:28           1  \n",
              "3  Ballad of the Broken Seas  31-Jan-21   23:25           1  \n",
              "4  Ballad of the Broken Seas  31-Jan-21   23:21           1  "
            ],
            "text/html": [
              "\n",
              "  <div id=\"df-61930126-da25-471e-962f-98212515accd\" class=\"colab-df-container\">\n",
              "    <div>\n",
              "<style scoped>\n",
              "    .dataframe tbody tr th:only-of-type {\n",
              "        vertical-align: middle;\n",
              "    }\n",
              "\n",
              "    .dataframe tbody tr th {\n",
              "        vertical-align: top;\n",
              "    }\n",
              "\n",
              "    .dataframe thead th {\n",
              "        text-align: right;\n",
              "    }\n",
              "</style>\n",
              "<table border=\"1\" class=\"dataframe\">\n",
              "  <thead>\n",
              "    <tr style=\"text-align: right;\">\n",
              "      <th></th>\n",
              "      <th>ID</th>\n",
              "      <th>Username</th>\n",
              "      <th>Artist</th>\n",
              "      <th>Track</th>\n",
              "      <th>Album</th>\n",
              "      <th>Date</th>\n",
              "      <th>Time</th>\n",
              "      <th>play_count</th>\n",
              "    </tr>\n",
              "  </thead>\n",
              "  <tbody>\n",
              "    <tr>\n",
              "      <th>0</th>\n",
              "      <td>0</td>\n",
              "      <td>Babs_05</td>\n",
              "      <td>Isobel Campbell</td>\n",
              "      <td>The Circus Is Leaving Town</td>\n",
              "      <td>Ballad of the Broken Seas</td>\n",
              "      <td>31-Jan-21</td>\n",
              "      <td>23:36</td>\n",
              "      <td>1</td>\n",
              "    </tr>\n",
              "    <tr>\n",
              "      <th>1</th>\n",
              "      <td>1</td>\n",
              "      <td>Babs_05</td>\n",
              "      <td>Isobel Campbell</td>\n",
              "      <td>Dusty Wreath</td>\n",
              "      <td>Ballad of the Broken Seas</td>\n",
              "      <td>31-Jan-21</td>\n",
              "      <td>23:32</td>\n",
              "      <td>1</td>\n",
              "    </tr>\n",
              "    <tr>\n",
              "      <th>2</th>\n",
              "      <td>2</td>\n",
              "      <td>Babs_05</td>\n",
              "      <td>Isobel Campbell</td>\n",
              "      <td>Honey Child What Can I Do?</td>\n",
              "      <td>Ballad of the Broken Seas</td>\n",
              "      <td>31-Jan-21</td>\n",
              "      <td>23:28</td>\n",
              "      <td>1</td>\n",
              "    </tr>\n",
              "    <tr>\n",
              "      <th>3</th>\n",
              "      <td>3</td>\n",
              "      <td>Babs_05</td>\n",
              "      <td>Isobel Campbell</td>\n",
              "      <td>It's Hard To Kill A Bad Thing</td>\n",
              "      <td>Ballad of the Broken Seas</td>\n",
              "      <td>31-Jan-21</td>\n",
              "      <td>23:25</td>\n",
              "      <td>1</td>\n",
              "    </tr>\n",
              "    <tr>\n",
              "      <th>4</th>\n",
              "      <td>4</td>\n",
              "      <td>Babs_05</td>\n",
              "      <td>Isobel Campbell</td>\n",
              "      <td>Saturday's Gone</td>\n",
              "      <td>Ballad of the Broken Seas</td>\n",
              "      <td>31-Jan-21</td>\n",
              "      <td>23:21</td>\n",
              "      <td>1</td>\n",
              "    </tr>\n",
              "  </tbody>\n",
              "</table>\n",
              "</div>\n",
              "    <div class=\"colab-df-buttons\">\n",
              "\n",
              "  <div class=\"colab-df-container\">\n",
              "    <button class=\"colab-df-convert\" onclick=\"convertToInteractive('df-61930126-da25-471e-962f-98212515accd')\"\n",
              "            title=\"Convert this dataframe to an interactive table.\"\n",
              "            style=\"display:none;\">\n",
              "\n",
              "  <svg xmlns=\"http://www.w3.org/2000/svg\" height=\"24px\" viewBox=\"0 -960 960 960\">\n",
              "    <path d=\"M120-120v-720h720v720H120Zm60-500h600v-160H180v160Zm220 220h160v-160H400v160Zm0 220h160v-160H400v160ZM180-400h160v-160H180v160Zm440 0h160v-160H620v160ZM180-180h160v-160H180v160Zm440 0h160v-160H620v160Z\"/>\n",
              "  </svg>\n",
              "    </button>\n",
              "\n",
              "  <style>\n",
              "    .colab-df-container {\n",
              "      display:flex;\n",
              "      gap: 12px;\n",
              "    }\n",
              "\n",
              "    .colab-df-convert {\n",
              "      background-color: #E8F0FE;\n",
              "      border: none;\n",
              "      border-radius: 50%;\n",
              "      cursor: pointer;\n",
              "      display: none;\n",
              "      fill: #1967D2;\n",
              "      height: 32px;\n",
              "      padding: 0 0 0 0;\n",
              "      width: 32px;\n",
              "    }\n",
              "\n",
              "    .colab-df-convert:hover {\n",
              "      background-color: #E2EBFA;\n",
              "      box-shadow: 0px 1px 2px rgba(60, 64, 67, 0.3), 0px 1px 3px 1px rgba(60, 64, 67, 0.15);\n",
              "      fill: #174EA6;\n",
              "    }\n",
              "\n",
              "    .colab-df-buttons div {\n",
              "      margin-bottom: 4px;\n",
              "    }\n",
              "\n",
              "    [theme=dark] .colab-df-convert {\n",
              "      background-color: #3B4455;\n",
              "      fill: #D2E3FC;\n",
              "    }\n",
              "\n",
              "    [theme=dark] .colab-df-convert:hover {\n",
              "      background-color: #434B5C;\n",
              "      box-shadow: 0px 1px 3px 1px rgba(0, 0, 0, 0.15);\n",
              "      filter: drop-shadow(0px 1px 2px rgba(0, 0, 0, 0.3));\n",
              "      fill: #FFFFFF;\n",
              "    }\n",
              "  </style>\n",
              "\n",
              "    <script>\n",
              "      const buttonEl =\n",
              "        document.querySelector('#df-61930126-da25-471e-962f-98212515accd button.colab-df-convert');\n",
              "      buttonEl.style.display =\n",
              "        google.colab.kernel.accessAllowed ? 'block' : 'none';\n",
              "\n",
              "      async function convertToInteractive(key) {\n",
              "        const element = document.querySelector('#df-61930126-da25-471e-962f-98212515accd');\n",
              "        const dataTable =\n",
              "          await google.colab.kernel.invokeFunction('convertToInteractive',\n",
              "                                                    [key], {});\n",
              "        if (!dataTable) return;\n",
              "\n",
              "        const docLinkHtml = 'Like what you see? Visit the ' +\n",
              "          '<a target=\"_blank\" href=https://colab.research.google.com/notebooks/data_table.ipynb>data table notebook</a>'\n",
              "          + ' to learn more about interactive tables.';\n",
              "        element.innerHTML = '';\n",
              "        dataTable['output_type'] = 'display_data';\n",
              "        await google.colab.output.renderOutput(dataTable, element);\n",
              "        const docLink = document.createElement('div');\n",
              "        docLink.innerHTML = docLinkHtml;\n",
              "        element.appendChild(docLink);\n",
              "      }\n",
              "    </script>\n",
              "  </div>\n",
              "\n",
              "\n",
              "<div id=\"df-c24f64e4-3cb4-42b2-bbf3-fa5100cb6291\">\n",
              "  <button class=\"colab-df-quickchart\" onclick=\"quickchart('df-c24f64e4-3cb4-42b2-bbf3-fa5100cb6291')\"\n",
              "            title=\"Suggest charts\"\n",
              "            style=\"display:none;\">\n",
              "\n",
              "<svg xmlns=\"http://www.w3.org/2000/svg\" height=\"24px\"viewBox=\"0 0 24 24\"\n",
              "     width=\"24px\">\n",
              "    <g>\n",
              "        <path d=\"M19 3H5c-1.1 0-2 .9-2 2v14c0 1.1.9 2 2 2h14c1.1 0 2-.9 2-2V5c0-1.1-.9-2-2-2zM9 17H7v-7h2v7zm4 0h-2V7h2v10zm4 0h-2v-4h2v4z\"/>\n",
              "    </g>\n",
              "</svg>\n",
              "  </button>\n",
              "\n",
              "<style>\n",
              "  .colab-df-quickchart {\n",
              "      --bg-color: #E8F0FE;\n",
              "      --fill-color: #1967D2;\n",
              "      --hover-bg-color: #E2EBFA;\n",
              "      --hover-fill-color: #174EA6;\n",
              "      --disabled-fill-color: #AAA;\n",
              "      --disabled-bg-color: #DDD;\n",
              "  }\n",
              "\n",
              "  [theme=dark] .colab-df-quickchart {\n",
              "      --bg-color: #3B4455;\n",
              "      --fill-color: #D2E3FC;\n",
              "      --hover-bg-color: #434B5C;\n",
              "      --hover-fill-color: #FFFFFF;\n",
              "      --disabled-bg-color: #3B4455;\n",
              "      --disabled-fill-color: #666;\n",
              "  }\n",
              "\n",
              "  .colab-df-quickchart {\n",
              "    background-color: var(--bg-color);\n",
              "    border: none;\n",
              "    border-radius: 50%;\n",
              "    cursor: pointer;\n",
              "    display: none;\n",
              "    fill: var(--fill-color);\n",
              "    height: 32px;\n",
              "    padding: 0;\n",
              "    width: 32px;\n",
              "  }\n",
              "\n",
              "  .colab-df-quickchart:hover {\n",
              "    background-color: var(--hover-bg-color);\n",
              "    box-shadow: 0 1px 2px rgba(60, 64, 67, 0.3), 0 1px 3px 1px rgba(60, 64, 67, 0.15);\n",
              "    fill: var(--button-hover-fill-color);\n",
              "  }\n",
              "\n",
              "  .colab-df-quickchart-complete:disabled,\n",
              "  .colab-df-quickchart-complete:disabled:hover {\n",
              "    background-color: var(--disabled-bg-color);\n",
              "    fill: var(--disabled-fill-color);\n",
              "    box-shadow: none;\n",
              "  }\n",
              "\n",
              "  .colab-df-spinner {\n",
              "    border: 2px solid var(--fill-color);\n",
              "    border-color: transparent;\n",
              "    border-bottom-color: var(--fill-color);\n",
              "    animation:\n",
              "      spin 1s steps(1) infinite;\n",
              "  }\n",
              "\n",
              "  @keyframes spin {\n",
              "    0% {\n",
              "      border-color: transparent;\n",
              "      border-bottom-color: var(--fill-color);\n",
              "      border-left-color: var(--fill-color);\n",
              "    }\n",
              "    20% {\n",
              "      border-color: transparent;\n",
              "      border-left-color: var(--fill-color);\n",
              "      border-top-color: var(--fill-color);\n",
              "    }\n",
              "    30% {\n",
              "      border-color: transparent;\n",
              "      border-left-color: var(--fill-color);\n",
              "      border-top-color: var(--fill-color);\n",
              "      border-right-color: var(--fill-color);\n",
              "    }\n",
              "    40% {\n",
              "      border-color: transparent;\n",
              "      border-right-color: var(--fill-color);\n",
              "      border-top-color: var(--fill-color);\n",
              "    }\n",
              "    60% {\n",
              "      border-color: transparent;\n",
              "      border-right-color: var(--fill-color);\n",
              "    }\n",
              "    80% {\n",
              "      border-color: transparent;\n",
              "      border-right-color: var(--fill-color);\n",
              "      border-bottom-color: var(--fill-color);\n",
              "    }\n",
              "    90% {\n",
              "      border-color: transparent;\n",
              "      border-bottom-color: var(--fill-color);\n",
              "    }\n",
              "  }\n",
              "</style>\n",
              "\n",
              "  <script>\n",
              "    async function quickchart(key) {\n",
              "      const quickchartButtonEl =\n",
              "        document.querySelector('#' + key + ' button');\n",
              "      quickchartButtonEl.disabled = true;  // To prevent multiple clicks.\n",
              "      quickchartButtonEl.classList.add('colab-df-spinner');\n",
              "      try {\n",
              "        const charts = await google.colab.kernel.invokeFunction(\n",
              "            'suggestCharts', [key], {});\n",
              "      } catch (error) {\n",
              "        console.error('Error during call to suggestCharts:', error);\n",
              "      }\n",
              "      quickchartButtonEl.classList.remove('colab-df-spinner');\n",
              "      quickchartButtonEl.classList.add('colab-df-quickchart-complete');\n",
              "    }\n",
              "    (() => {\n",
              "      let quickchartButtonEl =\n",
              "        document.querySelector('#df-c24f64e4-3cb4-42b2-bbf3-fa5100cb6291 button');\n",
              "      quickchartButtonEl.style.display =\n",
              "        google.colab.kernel.accessAllowed ? 'block' : 'none';\n",
              "    })();\n",
              "  </script>\n",
              "</div>\n",
              "\n",
              "    </div>\n",
              "  </div>\n"
            ],
            "application/vnd.google.colaboratory.intrinsic+json": {
              "type": "dataframe",
              "variable_name": "data"
            }
          },
          "metadata": {},
          "execution_count": 2
        }
      ]
    },
    {
      "cell_type": "code",
      "source": [
        "# Encode categorical data (Username, Track)\n",
        "user_encoder = LabelEncoder()\n",
        "item_encoder = LabelEncoder()\n",
        "\n",
        "data['user_id'] = user_encoder.fit_transform(data['Username'])\n",
        "data['item_id'] = item_encoder.fit_transform(data['Track'])"
      ],
      "metadata": {
        "id": "LFAcjzaF4sQP"
      },
      "execution_count": 3,
      "outputs": []
    },
    {
      "cell_type": "code",
      "source": [
        "# Prepare features (user_id, item_id) and target (play_count)\n",
        "X = data[['user_id', 'item_id']].values\n",
        "y = data['play_count'].values"
      ],
      "metadata": {
        "id": "5D5K9jf3-kX3"
      },
      "execution_count": 4,
      "outputs": []
    },
    {
      "cell_type": "code",
      "source": [
        "# Set a threshold to classify play_count into \"liked\" or \"not liked\"\n",
        "# Assuming if play_count >= 5, the user likes the track (this threshold can be adjusted)\n",
        "threshold = 5\n",
        "y_binary = np.where(y >= threshold, 1, 0)"
      ],
      "metadata": {
        "id": "Wqzb7a59-sOj"
      },
      "execution_count": 5,
      "outputs": []
    },
    {
      "cell_type": "code",
      "source": [
        "# Split the data into training and testing sets\n",
        "X_train, X_test, y_train, y_test = train_test_split(X, y_binary, test_size=0.2, random_state=42)"
      ],
      "metadata": {
        "id": "ET5Xov5b-xdi"
      },
      "execution_count": 6,
      "outputs": []
    },
    {
      "cell_type": "code",
      "source": [
        "# Build the ANN model\n",
        "num_users = len(data['user_id'].unique())\n",
        "num_items = len(data['item_id'].unique())"
      ],
      "metadata": {
        "id": "T3gO90eK-5Dr"
      },
      "execution_count": 7,
      "outputs": []
    },
    {
      "cell_type": "code",
      "source": [
        "# Define two embedding layers for users and items\n",
        "user_embedding = Sequential()\n",
        "user_embedding.add(Embedding(input_dim=num_users, output_dim=50, input_length=1))\n",
        "user_embedding.add(Flatten())\n",
        "\n",
        "item_embedding = Sequential()\n",
        "item_embedding.add(Embedding(input_dim=num_items, output_dim=50, input_length=1))\n",
        "item_embedding.add(Flatten())"
      ],
      "metadata": {
        "id": "CAEDTfkt-9iL",
        "colab": {
          "base_uri": "https://localhost:8080/"
        },
        "outputId": "fb41be30-85eb-4180-b416-ffd434afdf76"
      },
      "execution_count": 8,
      "outputs": [
        {
          "output_type": "stream",
          "name": "stderr",
          "text": [
            "/usr/local/lib/python3.10/dist-packages/keras/src/layers/core/embedding.py:90: UserWarning: Argument `input_length` is deprecated. Just remove it.\n",
            "  warnings.warn(\n"
          ]
        }
      ]
    },
    {
      "cell_type": "code",
      "source": [
        "# Combine both embeddings and add dense layers\n",
        "# Input layers\n",
        "user_input = Input(shape=(1,))\n",
        "item_input = Input(shape=(1,))"
      ],
      "metadata": {
        "id": "_nUotHdu_QqI"
      },
      "execution_count": 9,
      "outputs": []
    },
    {
      "cell_type": "code",
      "source": [
        "# Embedding layers\n",
        "user_emb = user_embedding(user_input)\n",
        "item_emb = item_embedding(item_input)"
      ],
      "metadata": {
        "id": "uOzmHurKBWUM"
      },
      "execution_count": 10,
      "outputs": []
    },
    {
      "cell_type": "code",
      "source": [
        "# Concatenate user and item embeddings\n",
        "concatenated = Concatenate()([user_emb, item_emb])\n",
        "\n",
        "# Add hidden dense layers\n",
        "x = Dense(128, activation='relu')(concatenated)\n",
        "x = Dense(64, activation='relu')(x)\n",
        "output = Dense(1, activation='sigmoid')(x)  # Binary classification output\n",
        "\n",
        "# Define the model\n",
        "model = Model([user_input, item_input], output)\n",
        "\n",
        "# Compile the model\n",
        "model.compile(optimizer=Adam(learning_rate=0.001), loss='binary_crossentropy', metrics=['accuracy'])\n"
      ],
      "metadata": {
        "id": "m9qSwJRHBDkr"
      },
      "execution_count": 11,
      "outputs": []
    },
    {
      "cell_type": "code",
      "source": [
        "# Train the model (with both user_id and item_id as inputs)\n",
        "history = model.fit([X_train[:, 0], X_train[:, 1]], y_train, epochs=20, batch_size=32, validation_split=0.2)"
      ],
      "metadata": {
        "id": "piaF_v2hBZgR",
        "colab": {
          "base_uri": "https://localhost:8080/"
        },
        "outputId": "9d737762-a57c-4341-e793-95424c18c208"
      },
      "execution_count": 12,
      "outputs": [
        {
          "output_type": "stream",
          "name": "stdout",
          "text": [
            "Epoch 1/20\n",
            "\u001b[1m3324/3324\u001b[0m \u001b[32m━━━━━━━━━━━━━━━━━━━━\u001b[0m\u001b[37m\u001b[0m \u001b[1m113s\u001b[0m 33ms/step - accuracy: 0.9398 - loss: 0.2047 - val_accuracy: 0.9711 - val_loss: 0.0817\n",
            "Epoch 2/20\n",
            "\u001b[1m3324/3324\u001b[0m \u001b[32m━━━━━━━━━━━━━━━━━━━━\u001b[0m\u001b[37m\u001b[0m \u001b[1m143s\u001b[0m 34ms/step - accuracy: 0.9771 - loss: 0.0546 - val_accuracy: 0.9781 - val_loss: 0.0855\n",
            "Epoch 3/20\n",
            "\u001b[1m3324/3324\u001b[0m \u001b[32m━━━━━━━━━━━━━━━━━━━━\u001b[0m\u001b[37m\u001b[0m \u001b[1m140s\u001b[0m 33ms/step - accuracy: 0.9874 - loss: 0.0321 - val_accuracy: 0.9730 - val_loss: 0.0759\n",
            "Epoch 4/20\n",
            "\u001b[1m3324/3324\u001b[0m \u001b[32m━━━━━━━━━━━━━━━━━━━━\u001b[0m\u001b[37m\u001b[0m \u001b[1m144s\u001b[0m 33ms/step - accuracy: 0.9956 - loss: 0.0117 - val_accuracy: 0.9478 - val_loss: 0.1688\n",
            "Epoch 5/20\n",
            "\u001b[1m3324/3324\u001b[0m \u001b[32m━━━━━━━━━━━━━━━━━━━━\u001b[0m\u001b[37m\u001b[0m \u001b[1m140s\u001b[0m 33ms/step - accuracy: 0.9983 - loss: 0.0044 - val_accuracy: 0.9488 - val_loss: 0.2219\n",
            "Epoch 6/20\n",
            "\u001b[1m3324/3324\u001b[0m \u001b[32m━━━━━━━━━━━━━━━━━━━━\u001b[0m\u001b[37m\u001b[0m \u001b[1m145s\u001b[0m 34ms/step - accuracy: 0.9993 - loss: 0.0022 - val_accuracy: 0.9640 - val_loss: 0.0944\n",
            "Epoch 7/20\n",
            "\u001b[1m3324/3324\u001b[0m \u001b[32m━━━━━━━━━━━━━━━━━━━━\u001b[0m\u001b[37m\u001b[0m \u001b[1m134s\u001b[0m 32ms/step - accuracy: 0.9996 - loss: 0.0012 - val_accuracy: 0.9358 - val_loss: 0.2325\n",
            "Epoch 8/20\n",
            "\u001b[1m3324/3324\u001b[0m \u001b[32m━━━━━━━━━━━━━━━━━━━━\u001b[0m\u001b[37m\u001b[0m \u001b[1m111s\u001b[0m 34ms/step - accuracy: 0.9997 - loss: 8.5622e-04 - val_accuracy: 0.9719 - val_loss: 0.0921\n",
            "Epoch 9/20\n",
            "\u001b[1m3324/3324\u001b[0m \u001b[32m━━━━━━━━━━━━━━━━━━━━\u001b[0m\u001b[37m\u001b[0m \u001b[1m103s\u001b[0m 31ms/step - accuracy: 0.9997 - loss: 6.5121e-04 - val_accuracy: 0.9556 - val_loss: 0.1829\n",
            "Epoch 10/20\n",
            "\u001b[1m3324/3324\u001b[0m \u001b[32m━━━━━━━━━━━━━━━━━━━━\u001b[0m\u001b[37m\u001b[0m \u001b[1m146s\u001b[0m 32ms/step - accuracy: 1.0000 - loss: 3.1899e-05 - val_accuracy: 0.9630 - val_loss: 0.1201\n",
            "Epoch 11/20\n",
            "\u001b[1m3324/3324\u001b[0m \u001b[32m━━━━━━━━━━━━━━━━━━━━\u001b[0m\u001b[37m\u001b[0m \u001b[1m138s\u001b[0m 31ms/step - accuracy: 1.0000 - loss: 8.2825e-05 - val_accuracy: 0.9783 - val_loss: 0.0834\n",
            "Epoch 12/20\n",
            "\u001b[1m3324/3324\u001b[0m \u001b[32m━━━━━━━━━━━━━━━━━━━━\u001b[0m\u001b[37m\u001b[0m \u001b[1m144s\u001b[0m 32ms/step - accuracy: 0.9998 - loss: 7.4798e-04 - val_accuracy: 0.9889 - val_loss: 0.0495\n",
            "Epoch 13/20\n",
            "\u001b[1m3324/3324\u001b[0m \u001b[32m━━━━━━━━━━━━━━━━━━━━\u001b[0m\u001b[37m\u001b[0m \u001b[1m149s\u001b[0m 34ms/step - accuracy: 1.0000 - loss: 4.3116e-05 - val_accuracy: 0.9875 - val_loss: 0.0554\n",
            "Epoch 14/20\n",
            "\u001b[1m3324/3324\u001b[0m \u001b[32m━━━━━━━━━━━━━━━━━━━━\u001b[0m\u001b[37m\u001b[0m \u001b[1m141s\u001b[0m 34ms/step - accuracy: 1.0000 - loss: 6.1294e-07 - val_accuracy: 0.9877 - val_loss: 0.0562\n",
            "Epoch 15/20\n",
            "\u001b[1m3324/3324\u001b[0m \u001b[32m━━━━━━━━━━━━━━━━━━━━\u001b[0m\u001b[37m\u001b[0m \u001b[1m142s\u001b[0m 34ms/step - accuracy: 1.0000 - loss: 1.6712e-07 - val_accuracy: 0.9879 - val_loss: 0.0575\n",
            "Epoch 16/20\n",
            "\u001b[1m3324/3324\u001b[0m \u001b[32m━━━━━━━━━━━━━━━━━━━━\u001b[0m\u001b[37m\u001b[0m \u001b[1m111s\u001b[0m 33ms/step - accuracy: 1.0000 - loss: 1.1742e-04 - val_accuracy: 0.9907 - val_loss: 0.0506\n",
            "Epoch 17/20\n",
            "\u001b[1m3324/3324\u001b[0m \u001b[32m━━━━━━━━━━━━━━━━━━━━\u001b[0m\u001b[37m\u001b[0m \u001b[1m136s\u001b[0m 32ms/step - accuracy: 1.0000 - loss: 9.3543e-05 - val_accuracy: 0.9468 - val_loss: 0.2318\n",
            "Epoch 18/20\n",
            "\u001b[1m3324/3324\u001b[0m \u001b[32m━━━━━━━━━━━━━━━━━━━━\u001b[0m\u001b[37m\u001b[0m \u001b[1m144s\u001b[0m 32ms/step - accuracy: 1.0000 - loss: 1.9225e-07 - val_accuracy: 0.9650 - val_loss: 0.1413\n",
            "Epoch 19/20\n",
            "\u001b[1m3324/3324\u001b[0m \u001b[32m━━━━━━━━━━━━━━━━━━━━\u001b[0m\u001b[37m\u001b[0m \u001b[1m141s\u001b[0m 32ms/step - accuracy: 0.9999 - loss: 8.1129e-04 - val_accuracy: 0.9679 - val_loss: 0.1226\n",
            "Epoch 20/20\n",
            "\u001b[1m3324/3324\u001b[0m \u001b[32m━━━━━━━━━━━━━━━━━━━━\u001b[0m\u001b[37m\u001b[0m \u001b[1m147s\u001b[0m 34ms/step - accuracy: 1.0000 - loss: 3.6002e-05 - val_accuracy: 0.9721 - val_loss: 0.1021\n"
          ]
        }
      ]
    },
    {
      "cell_type": "code",
      "source": [
        "# Evaluate the model accuracy\n",
        "loss, accuracy = model.evaluate([X_test[:, 0], X_test[:, 1]], y_test)\n",
        "print(f\"Accuracy: {accuracy * 100:.2f}%\")"
      ],
      "metadata": {
        "colab": {
          "base_uri": "https://localhost:8080/"
        },
        "id": "28IGpWDMVPKA",
        "outputId": "045090a2-1230-4030-a189-cdac1d0a66a2"
      },
      "execution_count": 13,
      "outputs": [
        {
          "output_type": "stream",
          "name": "stdout",
          "text": [
            "\u001b[1m1039/1039\u001b[0m \u001b[32m━━━━━━━━━━━━━━━━━━━━\u001b[0m\u001b[37m\u001b[0m \u001b[1m2s\u001b[0m 2ms/step - accuracy: 0.9726 - loss: 0.1022\n",
            "Accuracy: 97.19%\n"
          ]
        }
      ]
    },
    {
      "cell_type": "code",
      "source": [
        "# Recommend tracks for a specific user (by username)\n",
        "specific_username = 'Babs_05'\n",
        "\n",
        "# Get the encoded user_id for the specified username\n",
        "user_id = user_encoder.transform([specific_username])[0]\n",
        "\n",
        "# Get all unique item IDs (tracks) to predict the user's preference for each track\n",
        "all_item_ids = data['item_id'].unique()\n",
        "\n",
        "# Predict the likelihood of liking each track\n",
        "predictions = model.predict([np.full_like(all_item_ids, user_id), all_item_ids])\n",
        "\n",
        "# Get top N tracks that the user is most likely to like\n",
        "N = 10\n",
        "top_N_indices = np.argsort(predictions[:, 0])[-N:][::-1]  # Indices of top N tracks\n",
        "\n",
        "# Convert item IDs back to track names\n",
        "recommended_tracks = item_encoder.inverse_transform(all_item_ids[top_N_indices])\n",
        "\n",
        "# Print the actual username and the recommended tracks\n",
        "print(f\"Recommended tracks for User '{specific_username}':\")\n",
        "for track in recommended_tracks:\n",
        "    print(track)\n"
      ],
      "metadata": {
        "colab": {
          "base_uri": "https://localhost:8080/"
        },
        "id": "HPOV329uiRJ3",
        "outputId": "33d99bb2-07cf-477a-f39c-680eda02f432"
      },
      "execution_count": 14,
      "outputs": [
        {
          "output_type": "stream",
          "name": "stdout",
          "text": [
            "\u001b[1m2102/2102\u001b[0m \u001b[32m━━━━━━━━━━━━━━━━━━━━\u001b[0m\u001b[37m\u001b[0m \u001b[1m4s\u001b[0m 2ms/step\n",
            "Recommended tracks for User 'Babs_05':\n",
            "Holiday\n",
            "Friends\n",
            "How’s Your Mind\n",
            "Just Because\n",
            "From Home\n",
            "Homecoming\n",
            "Anemone\n",
            "Chinese Satellite\n",
            "Moon Song\n",
            "Navigator\n"
          ]
        }
      ]
    }
  ]
}